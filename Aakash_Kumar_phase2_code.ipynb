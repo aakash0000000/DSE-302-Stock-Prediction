{
 "cells": [
  {
   "cell_type": "markdown",
   "id": "11e6b12b",
   "metadata": {},
   "source": [
    "## Importing Libraries"
   ]
  },
  {
   "cell_type": "code",
   "execution_count": 1,
   "id": "4c0fbb7b",
   "metadata": {},
   "outputs": [],
   "source": [
    "import pandas as pd\n",
    "import seaborn as sns\n",
    "import matplotlib.pyplot as plt\n",
    "import numpy as np\n",
    "from sklearn.model_selection import train_test_split\n",
    "from sklearn.linear_model import LinearRegression\n",
    "from sklearn.metrics import mean_squared_error, mean_absolute_error, r2_score\n",
    "import math\n",
    "from sklearn import neighbors\n",
    "from sklearn.ensemble import RandomForestRegressor"
   ]
  },
  {
   "cell_type": "markdown",
   "id": "a13481e6",
   "metadata": {},
   "source": [
    "## Loading Data"
   ]
  },
  {
   "cell_type": "code",
   "execution_count": 2,
   "id": "22a1e388",
   "metadata": {},
   "outputs": [],
   "source": [
    "stock_trn = pd.read_csv(\"C:/Users/ASUS/Downloads/stocknet_trn_data.csv\")\n",
    "stock_trn_targets = pd.read_csv(\"C:/Users/ASUS/Downloads/stocknet_trn_data_targets.csv\",header=None)\n",
    "stock_test = pd.read_csv(\"C:/Users/ASUS/Downloads/stocknet_tst_data.csv\")"
   ]
  },
  {
   "cell_type": "markdown",
   "id": "8c5683d2",
   "metadata": {},
   "source": [
    "## Data Analysis"
   ]
  },
  {
   "cell_type": "code",
   "execution_count": 3,
   "id": "b6374733",
   "metadata": {},
   "outputs": [],
   "source": [
    "stock_trn_targets.columns=[\"labels\",\"Close\"]"
   ]
  },
  {
   "cell_type": "code",
   "execution_count": 4,
   "id": "cbf35611",
   "metadata": {},
   "outputs": [
    {
     "name": "stdout",
     "output_type": "stream",
     "text": [
      "(97732, 4)\n"
     ]
    }
   ],
   "source": [
    "print (stock_trn.shape)"
   ]
  },
  {
   "cell_type": "code",
   "execution_count": 5,
   "id": "c2920b76",
   "metadata": {},
   "outputs": [
    {
     "name": "stdout",
     "output_type": "stream",
     "text": [
      "Index(['Open', 'High', 'Low', 'Volume'], dtype='object')\n"
     ]
    }
   ],
   "source": [
    "print (stock_trn.columns)"
   ]
  },
  {
   "cell_type": "code",
   "execution_count": 6,
   "id": "84378a10",
   "metadata": {
    "scrolled": true
   },
   "outputs": [
    {
     "data": {
      "text/html": [
       "<div>\n",
       "<style scoped>\n",
       "    .dataframe tbody tr th:only-of-type {\n",
       "        vertical-align: middle;\n",
       "    }\n",
       "\n",
       "    .dataframe tbody tr th {\n",
       "        vertical-align: top;\n",
       "    }\n",
       "\n",
       "    .dataframe thead th {\n",
       "        text-align: right;\n",
       "    }\n",
       "</style>\n",
       "<table border=\"1\" class=\"dataframe\">\n",
       "  <thead>\n",
       "    <tr style=\"text-align: right;\">\n",
       "      <th></th>\n",
       "      <th>Open</th>\n",
       "      <th>High</th>\n",
       "      <th>Low</th>\n",
       "      <th>Volume</th>\n",
       "    </tr>\n",
       "  </thead>\n",
       "  <tbody>\n",
       "    <tr>\n",
       "      <th>0</th>\n",
       "      <td>75.430000</td>\n",
       "      <td>75.910004</td>\n",
       "      <td>75.139999</td>\n",
       "      <td>3436700.0</td>\n",
       "    </tr>\n",
       "    <tr>\n",
       "      <th>1</th>\n",
       "      <td>124.930000</td>\n",
       "      <td>124.940002</td>\n",
       "      <td>124.169998</td>\n",
       "      <td>2366700.0</td>\n",
       "    </tr>\n",
       "    <tr>\n",
       "      <th>2</th>\n",
       "      <td>84.339996</td>\n",
       "      <td>84.370003</td>\n",
       "      <td>82.370003</td>\n",
       "      <td>11338700.0</td>\n",
       "    </tr>\n",
       "    <tr>\n",
       "      <th>3</th>\n",
       "      <td>56.770000</td>\n",
       "      <td>57.150002</td>\n",
       "      <td>56.529999</td>\n",
       "      <td>413300.0</td>\n",
       "    </tr>\n",
       "    <tr>\n",
       "      <th>4</th>\n",
       "      <td>47.419998</td>\n",
       "      <td>48.090000</td>\n",
       "      <td>46.759998</td>\n",
       "      <td>9531100.0</td>\n",
       "    </tr>\n",
       "  </tbody>\n",
       "</table>\n",
       "</div>"
      ],
      "text/plain": [
       "         Open        High         Low      Volume\n",
       "0   75.430000   75.910004   75.139999   3436700.0\n",
       "1  124.930000  124.940002  124.169998   2366700.0\n",
       "2   84.339996   84.370003   82.370003  11338700.0\n",
       "3   56.770000   57.150002   56.529999    413300.0\n",
       "4   47.419998   48.090000   46.759998   9531100.0"
      ]
     },
     "execution_count": 6,
     "metadata": {},
     "output_type": "execute_result"
    }
   ],
   "source": [
    "stock_trn.head()"
   ]
  },
  {
   "cell_type": "code",
   "execution_count": 7,
   "id": "2c3975cd",
   "metadata": {},
   "outputs": [],
   "source": [
    "con = pd.concat([stock_trn,stock_trn_targets],axis=1)"
   ]
  },
  {
   "cell_type": "code",
   "execution_count": 8,
   "id": "dfa8893d",
   "metadata": {},
   "outputs": [
    {
     "name": "stdout",
     "output_type": "stream",
     "text": [
      "         Open        High         Low      Volume labels       Close\n",
      "0   75.430000   75.910004   75.139999   3436700.0     d1   75.650002\n",
      "1  124.930000  124.940002  124.169998   2366700.0     d2  124.449997\n",
      "2   84.339996   84.370003   82.370003  11338700.0     d3   82.660004\n",
      "3   56.770000   57.150002   56.529999    413300.0     d4   57.009998\n",
      "4   47.419998   48.090000   46.759998   9531100.0     d5   47.860001\n"
     ]
    }
   ],
   "source": [
    "print(con.head())"
   ]
  },
  {
   "cell_type": "code",
   "execution_count": 9,
   "id": "a303d1fa",
   "metadata": {},
   "outputs": [
    {
     "name": "stdout",
     "output_type": "stream",
     "text": [
      "         Open        High         Low      Volume       Close\n",
      "0   75.430000   75.910004   75.139999   3436700.0   75.650002\n",
      "1  124.930000  124.940002  124.169998   2366700.0  124.449997\n",
      "2   84.339996   84.370003   82.370003  11338700.0   82.660004\n",
      "3   56.770000   57.150002   56.529999    413300.0   57.009998\n",
      "4   47.419998   48.090000   46.759998   9531100.0   47.860001\n"
     ]
    }
   ],
   "source": [
    "df=con.drop(['labels'],axis=1)\n",
    "print(df.head())"
   ]
  },
  {
   "cell_type": "code",
   "execution_count": 10,
   "id": "4e3437b9",
   "metadata": {},
   "outputs": [
    {
     "data": {
      "text/plain": [
       "Open      3\n",
       "High      3\n",
       "Low       3\n",
       "Volume    3\n",
       "Close     3\n",
       "dtype: int64"
      ]
     },
     "execution_count": 10,
     "metadata": {},
     "output_type": "execute_result"
    }
   ],
   "source": [
    "df.isnull().sum()"
   ]
  },
  {
   "cell_type": "code",
   "execution_count": 11,
   "id": "76607776",
   "metadata": {},
   "outputs": [],
   "source": [
    "df[:] = np.nan_to_num(df)"
   ]
  },
  {
   "cell_type": "code",
   "execution_count": 12,
   "id": "aa47cdea",
   "metadata": {},
   "outputs": [
    {
     "data": {
      "text/plain": [
       "Open      False\n",
       "High      False\n",
       "Low       False\n",
       "Volume    False\n",
       "Close     False\n",
       "dtype: bool"
      ]
     },
     "execution_count": 12,
     "metadata": {},
     "output_type": "execute_result"
    }
   ],
   "source": [
    "df.isna().any()"
   ]
  },
  {
   "cell_type": "code",
   "execution_count": 13,
   "id": "09f09a09",
   "metadata": {},
   "outputs": [
    {
     "data": {
      "text/html": [
       "<div>\n",
       "<style scoped>\n",
       "    .dataframe tbody tr th:only-of-type {\n",
       "        vertical-align: middle;\n",
       "    }\n",
       "\n",
       "    .dataframe tbody tr th {\n",
       "        vertical-align: top;\n",
       "    }\n",
       "\n",
       "    .dataframe thead th {\n",
       "        text-align: right;\n",
       "    }\n",
       "</style>\n",
       "<table border=\"1\" class=\"dataframe\">\n",
       "  <thead>\n",
       "    <tr style=\"text-align: right;\">\n",
       "      <th></th>\n",
       "      <th>Open</th>\n",
       "      <th>High</th>\n",
       "      <th>Low</th>\n",
       "      <th>Volume</th>\n",
       "      <th>Close</th>\n",
       "    </tr>\n",
       "  </thead>\n",
       "  <tbody>\n",
       "    <tr>\n",
       "      <th>count</th>\n",
       "      <td>97732.000000</td>\n",
       "      <td>97732.000000</td>\n",
       "      <td>97732.000000</td>\n",
       "      <td>9.773200e+04</td>\n",
       "      <td>97732.000000</td>\n",
       "    </tr>\n",
       "    <tr>\n",
       "      <th>mean</th>\n",
       "      <td>2427.586821</td>\n",
       "      <td>2439.482544</td>\n",
       "      <td>2413.891123</td>\n",
       "      <td>9.064503e+06</td>\n",
       "      <td>2427.307257</td>\n",
       "    </tr>\n",
       "    <tr>\n",
       "      <th>std</th>\n",
       "      <td>21797.511538</td>\n",
       "      <td>21900.008679</td>\n",
       "      <td>21677.678068</td>\n",
       "      <td>1.800890e+07</td>\n",
       "      <td>21794.418262</td>\n",
       "    </tr>\n",
       "    <tr>\n",
       "      <th>min</th>\n",
       "      <td>0.000000</td>\n",
       "      <td>0.000000</td>\n",
       "      <td>0.000000</td>\n",
       "      <td>0.000000e+00</td>\n",
       "      <td>0.000000</td>\n",
       "    </tr>\n",
       "    <tr>\n",
       "      <th>25%</th>\n",
       "      <td>40.450001</td>\n",
       "      <td>40.730000</td>\n",
       "      <td>40.169998</td>\n",
       "      <td>1.197900e+06</td>\n",
       "      <td>40.459999</td>\n",
       "    </tr>\n",
       "    <tr>\n",
       "      <th>50%</th>\n",
       "      <td>65.955738</td>\n",
       "      <td>66.486092</td>\n",
       "      <td>65.454567</td>\n",
       "      <td>3.544400e+06</td>\n",
       "      <td>66.009147</td>\n",
       "    </tr>\n",
       "    <tr>\n",
       "      <th>75%</th>\n",
       "      <td>97.669998</td>\n",
       "      <td>98.470001</td>\n",
       "      <td>96.925177</td>\n",
       "      <td>8.995725e+06</td>\n",
       "      <td>97.669998</td>\n",
       "    </tr>\n",
       "    <tr>\n",
       "      <th>max</th>\n",
       "      <td>272800.000000</td>\n",
       "      <td>272885.000000</td>\n",
       "      <td>271040.000000</td>\n",
       "      <td>6.166205e+08</td>\n",
       "      <td>271062.000000</td>\n",
       "    </tr>\n",
       "  </tbody>\n",
       "</table>\n",
       "</div>"
      ],
      "text/plain": [
       "                Open           High            Low        Volume  \\\n",
       "count   97732.000000   97732.000000   97732.000000  9.773200e+04   \n",
       "mean     2427.586821    2439.482544    2413.891123  9.064503e+06   \n",
       "std     21797.511538   21900.008679   21677.678068  1.800890e+07   \n",
       "min         0.000000       0.000000       0.000000  0.000000e+00   \n",
       "25%        40.450001      40.730000      40.169998  1.197900e+06   \n",
       "50%        65.955738      66.486092      65.454567  3.544400e+06   \n",
       "75%        97.669998      98.470001      96.925177  8.995725e+06   \n",
       "max    272800.000000  272885.000000  271040.000000  6.166205e+08   \n",
       "\n",
       "               Close  \n",
       "count   97732.000000  \n",
       "mean     2427.307257  \n",
       "std     21794.418262  \n",
       "min         0.000000  \n",
       "25%        40.459999  \n",
       "50%        66.009147  \n",
       "75%        97.669998  \n",
       "max    271062.000000  "
      ]
     },
     "execution_count": 13,
     "metadata": {},
     "output_type": "execute_result"
    }
   ],
   "source": [
    "df.describe()"
   ]
  },
  {
   "cell_type": "code",
   "execution_count": 14,
   "id": "912a352e",
   "metadata": {},
   "outputs": [
    {
     "data": {
      "text/plain": [
       "<AxesSubplot:xlabel='Close', ylabel='Open'>"
      ]
     },
     "execution_count": 14,
     "metadata": {},
     "output_type": "execute_result"
    },
    {
     "data": {
      "image/png": "[encoded data removed]",
      "text/plain": [
       "<Figure size 432x288 with 1 Axes>"
      ]
     },
     "metadata": {
      "needs_background": "light"
     },
     "output_type": "display_data"
    }
   ],
   "source": [
    "sns.regplot(x='Close',y='Open',data=df)"
   ]
  },
  {
   "cell_type": "code",
   "execution_count": 15,
   "id": "adb02403",
   "metadata": {},
   "outputs": [
    {
     "data": {
      "text/plain": [
       "<AxesSubplot:>"
      ]
     },
     "execution_count": 15,
     "metadata": {},
     "output_type": "execute_result"
    },
    {
     "data": {
      "image/png": "[encoded data removed]",
      "text/plain": [
       "<Figure size 432x288 with 2 Axes>"
      ]
     },
     "metadata": {
      "needs_background": "light"
     },
     "output_type": "display_data"
    }
   ],
   "source": [
    "corr=df.corr()\n",
    "sns.heatmap(corr,cmap='Wistia',annot=True)"
   ]
  },
  {
   "cell_type": "markdown",
   "id": "76d6f00b",
   "metadata": {},
   "source": [
    "## Splitting Data"
   ]
  },
  {
   "cell_type": "code",
   "execution_count": 16,
   "id": "1b2d5b61",
   "metadata": {},
   "outputs": [],
   "source": [
    "X = df.drop(labels=['Close'],axis=1)\n",
    "y = df['Close']"
   ]
  },
  {
   "cell_type": "code",
   "execution_count": 17,
   "id": "010fac53",
   "metadata": {},
   "outputs": [
    {
     "name": "stdout",
     "output_type": "stream",
     "text": [
      "size of train data = (87958, 4)\n",
      "size of test set = (9774, 4)\n"
     ]
    }
   ],
   "source": [
    "x_train,x_test,y_train,y_test = train_test_split(X,y,test_size = 0.1,random_state = 42)\n",
    "print(f\"size of train data = {x_train.shape}\\nsize of test set = {x_test.shape}\")"
   ]
  },
  {
   "cell_type": "markdown",
   "id": "abe5a9f8",
   "metadata": {},
   "source": [
    "## Linear Regression"
   ]
  },
  {
   "cell_type": "code",
   "execution_count": 18,
   "id": "b5a05f05",
   "metadata": {},
   "outputs": [
    {
     "name": "stdout",
     "output_type": "stream",
     "text": [
      "Intercept: -0.07566590462010936\n",
      "Root mean squared error:  62.64671909354833\n",
      "Mean absolute error: 5.530952340269285\n",
      "R2 score:  0.999991162349729\n"
     ]
    }
   ],
   "source": [
    "# Model initialization\n",
    "regression_model = LinearRegression()\n",
    "# Fit the data(train the model)\n",
    "regression_model.fit(x_train, y_train)\n",
    "# Predict\n",
    "y_predicted = regression_model.predict(x_test)\n",
    "\n",
    "# model evaluation\n",
    "rmse = math.sqrt(mean_squared_error(y_test, y_predicted))\n",
    "mae = mean_absolute_error(y_test, y_predicted)\n",
    "r2 = r2_score(y_test, y_predicted)\n",
    "\n",
    "# printing values\n",
    "print('Intercept:', regression_model.intercept_)\n",
    "print('Root mean squared error: ', rmse)\n",
    "print('Mean absolute error:', mae)\n",
    "print('R2 score: ', r2)\n"
   ]
  },
  {
   "cell_type": "code",
   "execution_count": 30,
   "id": "61d8c392",
   "metadata": {},
   "outputs": [],
   "source": [
    "#saving the labels\n",
    "pred_orig=regression_model.predict(stock_test)\n",
    "labels = open(\"Aakash_Kumar_Label_file.txt\", \"w+\")\n",
    "for i in range(len(pred_orig)):\n",
    "    labels.write(str(\"d\")+str(int(i))+\",\"+str(pred_orig[i]) + \"\\n\")"
   ]
  },
  {
   "cell_type": "markdown",
   "id": "3fe1aa3a",
   "metadata": {},
   "source": [
    "## KNN Regressor"
   ]
  },
  {
   "cell_type": "code",
   "execution_count": 19,
   "id": "6736ee84",
   "metadata": {},
   "outputs": [
    {
     "name": "stdout",
     "output_type": "stream",
     "text": [
      "RMSE value for k=  1 is: 139.58571952204107\n",
      "Mean absolute error: 42.64897012359321\n",
      "R2 score:  0.9999561244950136\n",
      "RMSE value for k=  2 is: 138.76590070470888\n",
      "Mean absolute error: 42.841716765398004\n",
      "R2 score:  0.9999566383632634\n",
      "RMSE value for k=  3 is: 128.6081912029598\n",
      "Mean absolute error: 43.56257363743946\n",
      "R2 score:  0.99996275419122\n",
      "RMSE value for k=  4 is: 135.42800978583935\n",
      "Mean absolute error: 45.59194521685083\n",
      "R2 score:  0.9999586993257853\n",
      "RMSE value for k=  5 is: 139.97261981456433\n",
      "Mean absolute error: 47.06809531289134\n",
      "R2 score:  0.9999558809318205\n",
      "RMSE value for k=  6 is: 142.7909907572938\n",
      "Mean absolute error: 48.31669113638224\n",
      "R2 score:  0.9999540863559665\n",
      "RMSE value for k=  7 is: 152.0268293275257\n",
      "Mean absolute error: 49.86625883385952\n",
      "R2 score:  0.9999479548068291\n",
      "RMSE value for k=  8 is: 152.744902251315\n",
      "Mean absolute error: 50.64128908297524\n",
      "R2 score:  0.9999474619924368\n",
      "RMSE value for k=  9 is: 150.91678794661095\n",
      "Mean absolute error: 51.352956707421036\n",
      "R2 score:  0.9999487120600421\n",
      "RMSE value for k=  10 is: 155.0782167107137\n",
      "Mean absolute error: 52.474790198004904\n",
      "R2 score:  0.9999458446028021\n"
     ]
    }
   ],
   "source": [
    "rmse_val = [] #to store rmse values for different k\n",
    "for K in range(10):\n",
    "    K = K+1\n",
    "    model = neighbors.KNeighborsRegressor(n_neighbors = K)\n",
    "\n",
    "    model.fit(x_train, y_train)  #fit the model\n",
    "    pred=model.predict(x_test) #make prediction on test set\n",
    "    rmse = math.sqrt(mean_squared_error(y_test,pred))\n",
    "    mae = mean_absolute_error(y_test,pred)\n",
    "    r2 = r2_score(y_test,pred)\n",
    "    rmse_val.append(rmse) #store rmse values\n",
    "    print('RMSE value for k= ' , K , 'is:', rmse)\n",
    "    print('Mean absolute error:', mae)\n",
    "    print('R2 score: ', r2)"
   ]
  },
  {
   "cell_type": "code",
   "execution_count": 20,
   "id": "bda83422",
   "metadata": {},
   "outputs": [
    {
     "data": {
      "text/plain": [
       "<AxesSubplot:>"
      ]
     },
     "execution_count": 20,
     "metadata": {},
     "output_type": "execute_result"
    },
    {
     "data": {
      "image/png": "[encoded data removed]",
      "text/plain": [
       "<Figure size 432x288 with 1 Axes>"
      ]
     },
     "metadata": {
      "needs_background": "light"
     },
     "output_type": "display_data"
    }
   ],
   "source": [
    "#plotting the rmse values against k values\n",
    "curve = pd.DataFrame(rmse_val) #elbow curve \n",
    "curve.plot()"
   ]
  },
  {
   "cell_type": "markdown",
   "id": "1f9dc05d",
   "metadata": {},
   "source": [
    "## Implementing GridsearchCV\n",
    "For deciding the value of k, plotting the elbow curve every time is be a cumbersome and tedious process. You can simply use gridsearch to find the best value."
   ]
  },
  {
   "cell_type": "code",
   "execution_count": 21,
   "id": "41439ede",
   "metadata": {},
   "outputs": [
    {
     "data": {
      "text/plain": [
       "{'n_neighbors': 2}"
      ]
     },
     "execution_count": 21,
     "metadata": {},
     "output_type": "execute_result"
    }
   ],
   "source": [
    "from sklearn.model_selection import GridSearchCV\n",
    "params = {'n_neighbors':[2,3,4,5,6,7,8,9]}\n",
    "\n",
    "knn = neighbors.KNeighborsRegressor()\n",
    "\n",
    "model = GridSearchCV(knn, params, cv=5)\n",
    "model.fit(x_train,y_train)\n",
    "model.best_params_"
   ]
  },
  {
   "cell_type": "markdown",
   "id": "147509b7",
   "metadata": {},
   "source": [
    "## Random Forest Regression"
   ]
  },
  {
   "cell_type": "code",
   "execution_count": 22,
   "id": "fcee75e9",
   "metadata": {},
   "outputs": [
    {
     "name": "stdout",
     "output_type": "stream",
     "text": [
      "\n",
      "RMSE:\n",
      " 96.254\n",
      "Mean absolute error: 8.111179462557885\n",
      "R2 score:  0.9999791370841782\n"
     ]
    }
   ],
   "source": [
    "# Initializing the Random Forest Regression model with 10 decision trees\n",
    "model = RandomForestRegressor(n_estimators = 85, random_state = 0)\n",
    "\n",
    "# Fitting the Random Forest Regression model to the data\n",
    "model.fit(x_train, y_train) \n",
    "\n",
    "# Predicting the target values of the test set\n",
    "y_pred = model.predict(x_test)\n",
    "\n",
    "# RMSE (Root Mean Square Error)\n",
    "rmse = float(format(np.sqrt(mean_squared_error(y_test, y_pred)),'.3f'))\n",
    "mae = mean_absolute_error(y_test,y_pred)\n",
    "r2 = r2_score(y_test,y_pred)\n",
    "\n",
    "print(\"\\nRMSE:\\n\",rmse)\n",
    "print('Mean absolute error:', mae)\n",
    "print('R2 score: ', r2)"
   ]
  },
  {
   "cell_type": "markdown",
   "id": "4b3fcb97",
   "metadata": {},
   "source": [
    "## Implementing GridsearchCV"
   ]
  },
  {
   "cell_type": "code",
   "execution_count": 23,
   "id": "980cb930",
   "metadata": {},
   "outputs": [
    {
     "name": "stdout",
     "output_type": "stream",
     "text": [
      "Fitting 5 folds for each of 30 candidates, totalling 150 fits\n"
     ]
    },
    {
     "data": {
      "text/plain": [
       "{'bootstrap': True, 'max_depth': 10, 'n_estimators': 45}"
      ]
     },
     "execution_count": 23,
     "metadata": {},
     "output_type": "execute_result"
    }
   ],
   "source": [
    "from sklearn.model_selection import GridSearchCV\n",
    "rf = RandomForestRegressor()\n",
    "n_estimators=np.arange(5,100,20)\n",
    "param_grid = {'n_estimators': n_estimators,'max_depth': [10, 50, None], 'bootstrap': [True, False]}\n",
    "model = GridSearchCV(estimator = rf,param_grid=param_grid, cv = 5, verbose=2, n_jobs = -1)\n",
    "model.fit(x_train,y_train)\n",
    "model.best_params_"
   ]
  },
  {
   "cell_type": "code",
   "execution_count": null,
   "id": "b8ccec75",
   "metadata": {},
   "outputs": [],
   "source": []
  },
  {
   "cell_type": "markdown",
   "id": "ec80e4a1",
   "metadata": {},
   "source": [
    "## SVR"
   ]
  },
  {
   "cell_type": "code",
   "execution_count": 24,
   "id": "9a42780b",
   "metadata": {},
   "outputs": [
    {
     "data": {
      "text/plain": [
       "SVR()"
      ]
     },
     "execution_count": 24,
     "metadata": {},
     "output_type": "execute_result"
    }
   ],
   "source": [
    "from sklearn.svm import SVR\n",
    "# create the model object\n",
    "regressor = SVR(kernel = 'rbf')\n",
    "# fit the model on the data\n",
    "regressor.fit(x_train, y_train)"
   ]
  },
  {
   "cell_type": "code",
   "execution_count": 25,
   "id": "23dcab75",
   "metadata": {},
   "outputs": [
    {
     "name": "stdout",
     "output_type": "stream",
     "text": [
      "[67.90353925 68.27483306 43.88177833 ... 34.1207714  68.4617715\n",
      " 74.25886222]\n"
     ]
    }
   ],
   "source": [
    "y_pred=regressor.predict(x_test)\n",
    "print(y_pred)"
   ]
  },
  {
   "cell_type": "code",
   "execution_count": 26,
   "id": "e78da26e",
   "metadata": {},
   "outputs": [
    {
     "name": "stdout",
     "output_type": "stream",
     "text": [
      "RMSE: 21196.352047709563\n",
      "Mean absolute error: 52.474790198004904\n",
      "R2 score:  0.9999458446028021\n"
     ]
    }
   ],
   "source": [
    "rmse = math.sqrt(mean_squared_error(y_test, y_pred))\n",
    "mae = mean_absolute_error(y_test,pred)\n",
    "r2 = r2_score(y_test,pred)\n",
    "\n",
    "print('RMSE:',rmse)\n",
    "print('Mean absolute error:', mae)\n",
    "print('R2 score: ', r2)"
   ]
  },
  {
   "cell_type": "code",
   "execution_count": null,
   "id": "8abb0232",
   "metadata": {},
   "outputs": [],
   "source": []
  }
 ],
 "metadata": {
  "kernelspec": {
   "display_name": "Python 3",
   "language": "python",
   "name": "python3"
  },
  "language_info": {
   "codemirror_mode": {
    "name": "ipython",
    "version": 3
   },
   "file_extension": ".py",
   "mimetype": "text/x-python",
   "name": "python",
   "nbconvert_exporter": "python",
   "pygments_lexer": "ipython3",
   "version": "3.8.8"
  }
 },
 "nbformat": 4,
 "nbformat_minor": 5
}
